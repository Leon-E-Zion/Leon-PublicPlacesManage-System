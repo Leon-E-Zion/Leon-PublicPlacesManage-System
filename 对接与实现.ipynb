{
 "cells": [
  {
   "cell_type": "markdown",
   "id": "2e6f72d0",
   "metadata": {},
   "source": [
    "# 实现 任务参数 记录"
   ]
  },
  {
   "cell_type": "markdown",
   "id": "50f2eda5",
   "metadata": {},
   "source": [
    "## 数据存储与写入"
   ]
  },
  {
   "cell_type": "code",
   "execution_count": 13,
   "id": "bb290f33",
   "metadata": {},
   "outputs": [],
   "source": [
    "import yaml\n",
    "# data_dict = [{'name': 'John Doe', 'occupation': 'gardener'}]\n",
    "data_dict = []\n",
    "# 清空与写入\n",
    "def write_data(data_dict):\n",
    "    with open(os.path.join('tmp_data','data.yaml'), 'w') as f:\n",
    "        data = yaml.dump(data_dict, f)\n",
    "\n",
    "# 数据读取与写入      \n",
    "def get_data():\n",
    "    with open(os.path.join('tmp_data','data.yaml')) as f:\n",
    "        data = yaml.load(f, Loader=yaml.FullLoader)\n",
    "    return data "
   ]
  },
  {
   "cell_type": "markdown",
   "id": "8188767b",
   "metadata": {},
   "source": [
    "## 定义接口获取数据"
   ]
  },
  {
   "cell_type": "markdown",
   "id": "6b5f6a24",
   "metadata": {},
   "source": [
    "### 选择摄像头-ID号\n",
    "- 可选（1，2，3，4），分别对应不同位置的四个摄像头"
   ]
  },
  {
   "cell_type": "code",
   "execution_count": null,
   "id": "e5df3c82",
   "metadata": {},
   "outputs": [],
   "source": [
    "@app.route('/get_camera', methods=[\"POST\"])\n",
    "def get_camera():\n",
    "    camera_id = request.values.get(\"camera_id\")\n",
    "    return camera_id"
   ]
  },
  {
   "cell_type": "markdown",
   "id": "9dd943f9",
   "metadata": {},
   "source": [
    "### 确定检测任务\n",
    "- 行人检测 -0\n",
    "- 行人重识别 -1\n",
    "- 行人属性检测 -2\n",
    "- 口罩检测 -3\n",
    "- 摔倒检测 -4\n",
    "- 抽烟检测 -5\n"
   ]
  },
  {
   "cell_type": "code",
   "execution_count": null,
   "id": "45429556",
   "metadata": {},
   "outputs": [],
   "source": [
    "@app.route('/get_opt', methods=[\"POST\"])\n",
    "def get_opt():\n",
    "    opt_id = request.values.get(\"opt_id\")\n",
    "    return opt_id"
   ]
  },
  {
   "cell_type": "markdown",
   "id": "445b15bc",
   "metadata": {},
   "source": [
    "### 选择追踪目标"
   ]
  },
  {
   "cell_type": "markdown",
   "id": "ef5fe9c7",
   "metadata": {},
   "source": [
    "#### 客户端上传视频\n",
    "- 上传格式 .mp4"
   ]
  },
  {
   "cell_type": "code",
   "execution_count": null,
   "id": "a4436ec1",
   "metadata": {},
   "outputs": [],
   "source": [
    "@app.route('/get_tar_video', methods=[\"POST\"])\n",
    "def get_tar_video():\n",
    "    # 获取上传的视频\n",
    "    video = request.files.get('video')\n",
    "    # 文件存储 - 此处注意传输过程中图像选用流式传输，基于二进制形式实现\n",
    "    with open(os.path.join('tmp_data','tar_video.mp4'), 'wb') as f:\n",
    "        f.write(data)\n",
    "    return 0"
   ]
  },
  {
   "cell_type": "markdown",
   "id": "63cefd56",
   "metadata": {},
   "source": [
    "#### 确定追踪目标\n",
    "- 通过运行AI算法对上传的视频中的所有人物进行id分配和裁图存储处理\n",
    "- 将所有人物的图像保存到了指定文件夹中\n",
    "- 视野中每个人分配一个文件夹进行图片的保存\n",
    "- 前后端部分展示各个文件夹中的裁图即可"
   ]
  },
  {
   "cell_type": "code",
   "execution_count": null,
   "id": "a04e071f",
   "metadata": {},
   "outputs": [],
   "source": [
    "import sys\n",
    "if sys.platform == 'win32':\n",
    "    sys.path.append(r'D:\\Leon-Coding')\n",
    "else:\n",
    "    sys.path.append(r'/home/leonzion/Leon_Coding/leon_FC')\n",
    "from Leon_FC import *\n",
    "\n",
    "def get_tar_crop():\n",
    "    # 运行指定文件\n",
    "    path_0 = leon_path_in(r'yolov5_track/track.py')\n",
    "    path_1 = leon_path_in(r'yolov5_track/yolov5/weights/crowdhuman_yolov5m.pt')\n",
    "    path_2 = leon_path_in(r'yolov5_track/strong_sort/configs/strong_sort.yaml')\n",
    "    path_3 = os.path.join('tmp_data','tar_video.mp4')\n",
    "    com = r'python {}  --yolo-weights {} --config-strongsort {}  --classes 0 --source {}'.format(path_0,path_1,path_2,path_3)\n",
    "    # print(com)\n",
    "    os.system(com)"
   ]
  },
  {
   "cell_type": "markdown",
   "id": "bfc8bf90",
   "metadata": {},
   "source": [
    "# 相关功能函数初始化"
   ]
  },
  {
   "cell_type": "markdown",
   "id": "77453bfa",
   "metadata": {},
   "source": [
    "## 指定图像的保存\n",
    "- 对人物的类型分配为两种：['person','tar_person'] （是否为目标人物）\n",
    "- 通过 数据库 为前后端返回指定数据"
   ]
  },
  {
   "cell_type": "code",
   "execution_count": null,
   "id": "3ea28b5a",
   "metadata": {},
   "outputs": [],
   "source": [
    "import time\n",
    "def crop_save(tar_cls,output):\n",
    "    for key,unit_mes in output['crop'].items():\n",
    "        cls = unit_mes['cls']\n",
    "        if cls == tar_cls:\n",
    "            crop_img = unit_mes['crop_img']\n",
    "            dir_path = os.path.join('view_data',cls)\n",
    "            os.makedirs(dir_path, exist_ok=True)\n",
    "            cv2.imwrite(os.path.join(dir_path,str(time.time()+'.jpg')),crop_img)"
   ]
  },
  {
   "cell_type": "markdown",
   "id": "849b40c0",
   "metadata": {},
   "source": [
    "## 数据库上传\n",
    "- 将可视化数据上传至数据库供前后端进行获取与调用\n",
    "- 此处 主要进行 数据库创建 | 相关表格创建 | 数据插入与更新等操作\n",
    "- 具体存储使用上传 .zip 文件实现，前后端下载到指定位置后自行解压与处理"
   ]
  },
  {
   "cell_type": "markdown",
   "id": "4c60a85b",
   "metadata": {},
   "source": [
    "### 数据库创建"
   ]
  },
  {
   "cell_type": "markdown",
   "id": "6f65df15",
   "metadata": {},
   "source": [
    "### 数据库 - 表创建"
   ]
  },
  {
   "cell_type": "markdown",
   "id": "1e3bb484",
   "metadata": {},
   "source": [
    "### 数据库 - 数据插入"
   ]
  },
  {
   "cell_type": "markdown",
   "id": "2dd796ed",
   "metadata": {},
   "source": [
    "## 图像标注"
   ]
  },
  {
   "cell_type": "code",
   "execution_count": 1,
   "id": "1177f9cf",
   "metadata": {},
   "outputs": [],
   "source": [
    "import cv2\n",
    "# cv2-图像 [x1,y1,x2,y2]-坐标框 贴图文本\n",
    "def draw_img(img,bbox,text):\n",
    "    image = img.copy()\n",
    "    # 左上角\n",
    "    start_point = (int(bbox[1]),int(bbox[0]))\n",
    "    # 右下角\n",
    "    end_point = (int(bbox[3]),int(bbox[2]))\n",
    "    # draw the rectangle\n",
    "    cv2.rectangle(image, start_point, end_point, (0, 0, 255), thickness= 3, lineType=cv2.LINE_8) \n",
    "    #org: Where you want to put the text\n",
    "    org = start_point\n",
    "    # write the text on the input image\n",
    "    cv2.putText(image, text, org, fontFace = cv2.FONT_HERSHEY_COMPLEX, fontScale = 1.8, color = (0,0,250))\n",
    "    # display the output\n",
    "    return image"
   ]
  },
  {
   "cell_type": "markdown",
   "id": "37a634f0",
   "metadata": {},
   "source": [
    "## 行人检测"
   ]
  },
  {
   "cell_type": "code",
   "execution_count": 2,
   "id": "21eceb2e",
   "metadata": {},
   "outputs": [
    {
     "name": "stderr",
     "output_type": "stream",
     "text": [
      "C:\\Users\\leonz\\.conda\\envs\\Leon_Deep\\lib\\site-packages\\tqdm\\auto.py:22: TqdmWarning: IProgress not found. Please update jupyter and ipywidgets. See https://ipywidgets.readthedocs.io/en/stable/user_install.html\n",
      "  from .autonotebook import tqdm as notebook_tqdm\n"
     ]
    },
    {
     "name": "stdout",
     "output_type": "stream",
     "text": [
      "tools/leon_yolo.pth model, and classes loaded.\n",
      "Configurations:\n",
      "----------------------------------------------------------------------\n",
      "|                     keys |                                   values|\n",
      "----------------------------------------------------------------------\n",
      "|               model_path |                      tools/leon_yolo.pth|\n",
      "|             classes_path |                            tools/cls.txt|\n",
      "|              input_shape |                               [960, 960]|\n",
      "|                      phi |                                Leon_nano|\n",
      "|               confidence |                                      0.5|\n",
      "|                  nms_iou |                                      0.3|\n",
      "|          letterbox_image |                                     True|\n",
      "|                     cuda |                                     True|\n",
      "----------------------------------------------------------------------\n",
      "\t- img value_type:PIL.JpegImagePlugin.JpegImageFile\n",
      "\t+ crop\n",
      "\t|   + 0\n",
      "\t|   |   - crop_img value_type:numpy.ndarray\n",
      "\t|   |   - crop_bbox value_type:numpy.ndarray\n",
      "\t|   |   - score value_type:numpy.ndarray\n",
      "\t|   + 1\n",
      "\t|   |   - crop_img value_type:numpy.ndarray\n",
      "\t|   |   - crop_bbox value_type:numpy.ndarray\n",
      "\t|   |   - score value_type:numpy.ndarray\n",
      "\t|   + 2\n",
      "\t|   |   - crop_img value_type:numpy.ndarray\n",
      "\t|   |   - crop_bbox value_type:numpy.ndarray\n",
      "\t|   |   - score value_type:numpy.ndarray\n",
      "\t|   + 3\n",
      "\t|   |   - crop_img value_type:numpy.ndarray\n",
      "\t|   |   - crop_bbox value_type:numpy.ndarray\n",
      "\t|   |   - score value_type:numpy.ndarray\n",
      "\t|   + 4\n",
      "\t|   |   - crop_img value_type:numpy.ndarray\n",
      "\t|   |   - crop_bbox value_type:numpy.ndarray\n",
      "\t|   |   - score value_type:numpy.ndarray\n",
      "\t|   + 5\n",
      "\t|   |   - crop_img value_type:numpy.ndarray\n",
      "\t|   |   - crop_bbox value_type:numpy.ndarray\n",
      "\t|   |   - score value_type:numpy.ndarray\n",
      "\t|   + 6\n",
      "\t|   |   - crop_img value_type:numpy.ndarray\n",
      "\t|   |   - crop_bbox value_type:numpy.ndarray\n",
      "\t|   |   - score value_type:numpy.ndarray\n",
      "\t|   + 7\n",
      "\t|   |   - crop_img value_type:numpy.ndarray\n",
      "\t|   |   - crop_bbox value_type:numpy.ndarray\n",
      "\t|   |   - score value_type:numpy.ndarray\n",
      "\t|   + 8\n",
      "\t|   |   - crop_img value_type:numpy.ndarray\n",
      "\t|   |   - crop_bbox value_type:numpy.ndarray\n",
      "\t|   |   - score value_type:numpy.ndarray\n",
      "\t|   + 9\n",
      "\t|   |   - crop_img value_type:numpy.ndarray\n",
      "\t|   |   - crop_bbox value_type:numpy.ndarray\n",
      "\t|   |   - score value_type:numpy.ndarray\n",
      "\t|   + 10\n",
      "\t|   |   - crop_img value_type:numpy.ndarray\n",
      "\t|   |   - crop_bbox value_type:numpy.ndarray\n",
      "\t|   |   - score value_type:numpy.ndarray\n",
      "\t|   + 11\n",
      "\t|   |   - crop_img value_type:numpy.ndarray\n",
      "\t|   |   - crop_bbox value_type:numpy.ndarray\n",
      "\t|   |   - score value_type:numpy.ndarray\n",
      "\t|   + 12\n",
      "\t|   |   - crop_img value_type:numpy.ndarray\n",
      "\t|   |   - crop_bbox value_type:numpy.ndarray\n",
      "\t|   |   - score value_type:numpy.ndarray\n",
      "\t|   + 13\n",
      "\t|   |   - crop_img value_type:numpy.ndarray\n",
      "\t|   |   - crop_bbox value_type:numpy.ndarray\n",
      "\t|   |   - score value_type:numpy.ndarray\n",
      "\t|   + 14\n",
      "\t|   |   - crop_img value_type:numpy.ndarray\n",
      "\t|   |   - crop_bbox value_type:numpy.ndarray\n",
      "\t|   |   - score value_type:numpy.ndarray\n",
      "\t|   + 15\n",
      "\t|   |   - crop_img value_type:numpy.ndarray\n",
      "\t|   |   - crop_bbox value_type:numpy.ndarray\n",
      "\t|   |   - score value_type:numpy.ndarray\n",
      "\t|   + 16\n",
      "\t|   |   - crop_img value_type:numpy.ndarray\n",
      "\t|   |   - crop_bbox value_type:numpy.ndarray\n",
      "\t|   |   - score value_type:numpy.ndarray\n",
      "\t|   + 17\n",
      "\t|   |   - crop_img value_type:numpy.ndarray\n",
      "\t|   |   - crop_bbox value_type:numpy.ndarray\n",
      "\t|   |   - score value_type:numpy.ndarray\n",
      "\t|   + 18\n",
      "\t|   |   - crop_img value_type:numpy.ndarray\n",
      "\t|   |   - crop_bbox value_type:numpy.ndarray\n",
      "\t|   |   - score value_type:numpy.ndarray\n",
      "\t|   + 19\n",
      "\t|   |   - crop_img value_type:numpy.ndarray\n",
      "\t|   |   - crop_bbox value_type:numpy.ndarray\n",
      "\t|   |   - score value_type:numpy.ndarray\n",
      "\t|   + 20\n",
      "\t|   |   - crop_img value_type:numpy.ndarray\n",
      "\t|   |   - crop_bbox value_type:numpy.ndarray\n",
      "\t|   |   - score value_type:numpy.ndarray\n",
      "\t|   + 21\n",
      "\t|   |   - crop_img value_type:numpy.ndarray\n",
      "\t|   |   - crop_bbox value_type:numpy.ndarray\n",
      "\t|   |   - score value_type:numpy.ndarray\n",
      "\t|   + 22\n",
      "\t|   |   - crop_img value_type:numpy.ndarray\n",
      "\t|   |   - crop_bbox value_type:numpy.ndarray\n",
      "\t|   |   - score value_type:numpy.ndarray\n",
      "\t|   + 23\n",
      "\t|   |   - crop_img value_type:numpy.ndarray\n",
      "\t|   |   - crop_bbox value_type:numpy.ndarray\n",
      "\t|   |   - score value_type:numpy.ndarray\n",
      "\t- fea value_type:torch.Tensor\n",
      "\t- outputs value_type:list\n",
      "\t- img_orig value_type:list\n",
      "None\n"
     ]
    },
    {
     "name": "stderr",
     "output_type": "stream",
     "text": [
      "C:\\Users\\leonz\\.conda\\envs\\Leon_Deep\\lib\\site-packages\\torch\\functional.py:478: UserWarning: torch.meshgrid: in an upcoming release, it will be required to pass the indexing argument. (Triggered internally at  C:\\cb\\pytorch_1000000000000\\work\\aten\\src\\ATen\\native\\TensorShape.cpp:2895.)\n",
      "  return _VF.meshgrid(tensors, **kwargs)  # type: ignore[attr-defined]\n"
     ]
    }
   ],
   "source": [
    "#!/usr/bin/env python3\n",
    "# -*- coding: utf-8 -*-\n",
    "\"\"\"\n",
    "Created on Sat Oct  1 13:22:46 2022\n",
    "\n",
    "@author: leonzion\n",
    "\"\"\"\n",
    "\n",
    "from tools.yolo_leon_person import *\n",
    "from PIL import Image\n",
    "import datetime\n",
    "from torchvision.ops import nms, roi_align, roi_pool\n",
    "import torch.nn.functional as F\n",
    "import sys\n",
    "if sys.platform == 'win32':\n",
    "    sys.path.append(r'D:\\Leon-Coding\\Leon_FC')\n",
    "else:\n",
    "    sys.path.append(r'/home/leonzion/Leon_Coding/Leon_FC')\n",
    "from leon_info import *\n",
    "from leon_os import *\n",
    "# 初始化检测器\n",
    "yo = Yolo_infer_person()\n",
    "img = Image.open(r'D:\\Leon-Coding\\Leon_TestData\\mans_2.jpg')\n",
    "yolo_output = yo.infer(img)\n",
    "print(get_dict_dirs(yolo_output))\n"
   ]
  },
  {
   "cell_type": "markdown",
   "id": "e456c658",
   "metadata": {},
   "source": [
    "## 指定人物追踪"
   ]
  },
  {
   "cell_type": "markdown",
   "id": "739ca54e",
   "metadata": {},
   "source": [
    "### 逐一获取行人数据"
   ]
  },
  {
   "cell_type": "code",
   "execution_count": 3,
   "id": "d1e11ab6",
   "metadata": {
    "scrolled": false
   },
   "outputs": [],
   "source": [
    "yolo_mes = yolo_output['crop']"
   ]
  },
  {
   "cell_type": "markdown",
   "id": "c64b4071",
   "metadata": {},
   "source": [
    "### 重识别的函数设置"
   ]
  },
  {
   "cell_type": "code",
   "execution_count": 20,
   "id": "61d44a18",
   "metadata": {},
   "outputs": [],
   "source": [
    "#!/usr/bin/env python3\n",
    "# -*- coding: utf-8 -*-\n",
    "\"\"\"\n",
    "Created on Sun Oct  2 12:58:46 2022\n",
    "\n",
    "@author: leonzion\n",
    "\"\"\"\n",
    "import sys\n",
    "if sys.platform == 'win32':\n",
    "    sys.path.append(r'D:\\Leon-Coding\\Leon_FC')\n",
    "else:\n",
    "    sys.path.append(r'/home/leonzion/Leon_Coding/Leon_FC')\n",
    "from leon_info import *\n",
    "from leon_os import *\n",
    "from torchvision import datasets, models, transforms\n",
    "\n",
    "import torch\n",
    "from PIL import Image\n",
    "import numpy as np\n",
    "import cv2\n",
    "import torch.nn.functional as F\n",
    "import os\n",
    "leon_path_in(os.path.join('reid','Person_reID_baseline_pytorch-master','model','ft_ResNet50'))\n",
    "leon_path_in(os.path.join('reid','Person_reID_baseline_pytorch-master'))\n",
    "\n",
    "from torchvision import datasets, models, transforms\n",
    "data_transforms = transforms.Compose([\n",
    "        transforms.Resize((256,128), interpolation=3),\n",
    "        transforms.ToTensor(),\n",
    "        transforms.Normalize([0.485, 0.456, 0.406], [0.229, 0.224, 0.225])\n",
    "])\n",
    "data_transforms_infer = transforms.Compose([\n",
    "        transforms.ToPILImage(),\n",
    "        transforms.Resize((256,128), interpolation=3),\n",
    "        transforms.ToTensor(),\n",
    "        transforms.Normalize([0.485, 0.456, 0.406], [0.229, 0.224, 0.225])\n",
    "])\n",
    "\n",
    "# 基于图片获取特征\n",
    "def get_fea(path):\n",
    "    img = data_transforms(Image.open(path))\n",
    "#     img = torch.tensor(img.transpose(2, 0, 1))\n",
    "    img = torch.unsqueeze(img, dim = 0)\n",
    "    img = torch.tensor(img).to(torch.float32)\n",
    "    net = torch.load('D:/Leon-Coding/Leon-PublicPlacesManage-System/models/reid-effi_b0.pth_net')\n",
    "    outputs = net(img) \n",
    "    # ---- L2-norm Feature ------\n",
    "    ff = outputs.data.cpu()\n",
    "    fnorm = torch.norm(ff, p=2, dim=1, keepdim=True)\n",
    "    ff = ff.div(fnorm.expand_as(ff))\n",
    "    return ff\n",
    "\n",
    "def get_reidnet(net_path):\n",
    "    # 'D:/Leon-Coding/Leon-PublicPlacesManage-System/models/reid-effi_b0.pth_net'\n",
    "    return torch.load(net_path)\n",
    "\n",
    "def get_fig(net,t):\n",
    "    # 图像数据转化\n",
    "    t = torch.unsqueeze(torch.tensor(data_transforms_infer(t)), dim = 0)\n",
    "    fig = net(t.to(torch.float32))\n",
    "    # ---- L2-norm Feature ------\n",
    "    ff = fig.data.cpu()\n",
    "    fnorm = torch.norm(ff, p=2, dim=1, keepdim=True)\n",
    "    ff = ff.div(fnorm.expand_as(ff))\n",
    "    return ff"
   ]
  },
  {
   "cell_type": "markdown",
   "id": "14cf208c",
   "metadata": {},
   "source": [
    "### 目标人物特征提取"
   ]
  },
  {
   "cell_type": "code",
   "execution_count": 8,
   "id": "8aad4e28",
   "metadata": {
    "scrolled": true
   },
   "outputs": [
    {
     "name": "stderr",
     "output_type": "stream",
     "text": [
      "C:\\Users\\leonz\\.conda\\envs\\Leon_Deep\\lib\\site-packages\\ipykernel_launcher.py:45: UserWarning: To copy construct from a tensor, it is recommended to use sourceTensor.clone().detach() or sourceTensor.clone().detach().requires_grad_(True), rather than torch.tensor(sourceTensor).\n"
     ]
    }
   ],
   "source": [
    "net = get_reidnet('D:/Leon-Coding/Leon-PublicPlacesManage-System/models/reid-effi_b0.pth_net')\n",
    "fig_tar = get_fea(r'D:\\Leon-Coding\\Leon_TestData\\human-22.png')"
   ]
  },
  {
   "cell_type": "markdown",
   "id": "f560f1eb",
   "metadata": {},
   "source": [
    "### 群体特征提取与比较"
   ]
  },
  {
   "cell_type": "code",
   "execution_count": 9,
   "id": "592fa9a7",
   "metadata": {
    "scrolled": true
   },
   "outputs": [
    {
     "name": "stderr",
     "output_type": "stream",
     "text": [
      "C:\\Users\\leonz\\.conda\\envs\\Leon_Deep\\lib\\site-packages\\ipykernel_launcher.py:60: UserWarning: To copy construct from a tensor, it is recommended to use sourceTensor.clone().detach() or sourceTensor.clone().detach().requires_grad_(True), rather than torch.tensor(sourceTensor).\n"
     ]
    }
   ],
   "source": [
    "for key,val in yolo_mes.items():\n",
    "    crop_img = val['crop_img']\n",
    "    fig = get_fig(net,crop_img)\n",
    "    yolo_output['crop'][key]['fig'] = fig\n",
    "    yolo_output['crop'][key]['score'] = F.cosine_similarity(fig,fig_tar,dim=1)"
   ]
  },
  {
   "cell_type": "markdown",
   "id": "c370e5a2",
   "metadata": {},
   "source": [
    "### 获取最高相似度"
   ]
  },
  {
   "cell_type": "code",
   "execution_count": 10,
   "id": "895baba6",
   "metadata": {},
   "outputs": [
    {
     "name": "stdout",
     "output_type": "stream",
     "text": [
      "<class 'numpy.ndarray'>\n"
     ]
    },
    {
     "name": "stderr",
     "output_type": "stream",
     "text": [
      "C:\\Users\\leonz\\.conda\\envs\\Leon_Deep\\lib\\site-packages\\ipykernel_launcher.py:60: UserWarning: To copy construct from a tensor, it is recommended to use sourceTensor.clone().detach() or sourceTensor.clone().detach().requires_grad_(True), rather than torch.tensor(sourceTensor).\n"
     ]
    },
    {
     "data": {
      "text/plain": [
       "True"
      ]
     },
     "execution_count": 10,
     "metadata": {},
     "output_type": "execute_result"
    }
   ],
   "source": [
    "img_orig = np.array(yolo_output['img_orig'][0])\n",
    "print(type(img_orig))\n",
    "for key,val in yolo_mes.items():\n",
    "    crop_img = val['crop_img']\n",
    "    fig = get_fig(net,crop_img)\n",
    "    yolo_output['crop'][key]['fig'] = fig\n",
    "    yolo_output['crop'][key]['score'] = F.cosine_similarity(fig,fig_tar,dim=1)\n",
    "# 标注最高分\n",
    "score_list = []\n",
    "for key,val in yolo_mes.items():\n",
    "    score_list.append(yolo_output['crop'][key]['score'])\n",
    "\n",
    "key = str(score_list.index(max(score_list)))\n",
    "img_orig = draw_img(img_orig,yolo_output['crop'][key]['crop_bbox'],str(yolo_output['crop'][key]['score']))\n",
    "cv2.imwrite('c.jpg',img_orig)"
   ]
  },
  {
   "cell_type": "markdown",
   "id": "85e2c189",
   "metadata": {},
   "source": [
    "## 行人属性识别"
   ]
  },
  {
   "cell_type": "markdown",
   "id": "500d3578",
   "metadata": {},
   "source": [
    "### 基本函数"
   ]
  },
  {
   "cell_type": "code",
   "execution_count": 29,
   "id": "c802d10f",
   "metadata": {},
   "outputs": [
    {
     "name": "stdout",
     "output_type": "stream",
     "text": [
      "D:\\Leon-Coding\\Leon-PublicPlacesManage-System\\passer-attribute_get\n"
     ]
    }
   ],
   "source": [
    "# -*- coding: utf-8 -*-\n",
    "\"\"\"\n",
    "Created on Thu Oct  6 21:05:24 2022\n",
    "\n",
    "@author: leonz\n",
    "\"\"\"\n",
    "\n",
    "import os\n",
    "import json\n",
    "import torch\n",
    "from PIL import Image\n",
    "\n",
    "import argparse\n",
    "import sys\n",
    "if sys.platform == 'win32':\n",
    "    sys.path.append(r'D:\\Leon-Coding\\Leon_FC')\n",
    "else:\n",
    "    sys.path.append(r'/home/leonzion/Leon_Coding/Leon_FC')\n",
    "from leon_info import *\n",
    "from leon_os import *\n",
    "print(leon_path_in('passer-attribute_get'))\n",
    "from net import get_model\n",
    "\n",
    "from torchvision import datasets, models, transforms\n",
    "######################################################################\n",
    "# Argument\n",
    "# ---------\n",
    "parser = argparse.ArgumentParser()\n",
    "\n",
    "parser.add_argument('--image_path', default=r'D:\\Leon-Coding\\Leon-PublicPlacesManage-System\\passer-attribute_get\\test_sample\\test_7.jpg',help='Path to test image')\n",
    "parser.add_argument('--dataset', default='market', type=str, help='dataset')\n",
    "parser.add_argument('--backbone', default='resnet50', type=str, help='model')\n",
    "parser.add_argument('--use-id', action='store_true', help='use identity loss')\n",
    "args = parser.parse_known_args()[0]\n",
    "assert args.dataset in ['market', 'duke']\n",
    "assert args.backbone in ['resnet50', 'resnet34', 'resnet18', 'densenet121']\n",
    "\n",
    "######################################################################\n",
    "# Settings\n",
    "# ---------\n",
    "dataset_dict = {\n",
    "    'market'  :  'Market-1501',\n",
    "    'duke'  :  'DukeMTMC-reID',\n",
    "}\n",
    "num_cls_dict = { 'market':30, 'duke':23 }\n",
    "num_ids_dict = { 'market':751, 'duke':702 }\n",
    "\n",
    "\n",
    "######################################################################\n",
    "# Model and Data\n",
    "# ---------\n",
    "def load_network(network):\n",
    "    save_path = os.path.join('models','passer_attribute.pth')\n",
    "    network.load_state_dict(torch.load(save_path))\n",
    "    print('Resume model from {}'.format(save_path))\n",
    "    return network\n",
    "\n",
    "def load_image(path):\n",
    "    src = Image.open(path)\n",
    "    src = transforms(src)\n",
    "    src = src.unsqueeze(dim=0)\n",
    "    return src\n",
    "\n",
    "\n",
    "def leon_get_attrmodel():\n",
    "######################################################################\n",
    "    model_name = '{}_nfc_id'.format(args.backbone) if args.use_id else '{}_nfc'.format(args.backbone)\n",
    "    num_label, num_id = num_cls_dict[args.dataset], num_ids_dict[args.dataset]\n",
    "    model = get_model(model_name, num_label, use_id=args.use_id, num_id=num_id)\n",
    "    model = load_network(model)\n",
    "    model.eval()\n",
    "    return model\n",
    "\n",
    "\n",
    "######################################################################\n",
    "# Inference\n",
    "# ---------\n",
    "class predict_decoder(object):\n",
    "\n",
    "    def __init__(self, dataset):\n",
    "        with open(leon_path_in(os.path.join(r'passer-attribute_get','doc','label.json')), 'r') as f:\n",
    "            self.label_list = json.load(f)[dataset]\n",
    "        with open(leon_path_in(os.path.join(r'passer-attribute_get','doc','attribute.json')), 'r') as f:\n",
    "            self.attribute_dict = json.load(f)[dataset]\n",
    "        self.dataset = dataset\n",
    "        self.num_label = len(self.label_list)\n",
    "\n",
    "    def decode(self, pred):\n",
    "        pred = pred.squeeze(dim=0)\n",
    "        for idx in range(self.num_label):\n",
    "            name, chooce = self.attribute_dict[self.label_list[idx]]\n",
    "            if chooce[pred[idx]]:\n",
    "                print('{}: {}'.format(name, chooce[pred[idx]]))"
   ]
  },
  {
   "cell_type": "code",
   "execution_count": 35,
   "id": "21bdb59c",
   "metadata": {},
   "outputs": [],
   "source": [
    "\n",
    "attri_transforms = transforms.Compose([\n",
    "        transforms.ToPILImage(),\n",
    "        transforms.Resize(size=(288, 144)),\n",
    "        transforms.ToTensor(),\n",
    "        transforms.Normalize([0.485, 0.456, 0.406], [0.229, 0.224, 0.225])\n",
    "    ])\n",
    "def get_attribute(model,img):\n",
    "    src = attri_transforms(img).unsqueeze(dim=0)\n",
    "    src = model.forward(src)\n",
    "    pred = torch.gt(src, torch.ones_like(src)/2 )  # threshold=0.5\n",
    "    Dec = predict_decoder(args.dataset)\n",
    "    Dec.decode(pred)\n",
    "    return pred"
   ]
  },
  {
   "cell_type": "markdown",
   "id": "7ce3927b",
   "metadata": {},
   "source": [
    "### 实际推理"
   ]
  },
  {
   "cell_type": "code",
   "execution_count": 36,
   "id": "94a097d4",
   "metadata": {},
   "outputs": [
    {
     "name": "stdout",
     "output_type": "stream",
     "text": [
      "Resume model from models\\passer_attribute.pth\n"
     ]
    },
    {
     "name": "stderr",
     "output_type": "stream",
     "text": [
      "C:\\Users\\leonz\\.conda\\envs\\Leon_Deep\\lib\\site-packages\\ipykernel_launcher.py:60: UserWarning: To copy construct from a tensor, it is recommended to use sourceTensor.clone().detach() or sourceTensor.clone().detach().requires_grad_(True), rather than torch.tensor(sourceTensor).\n"
     ]
    },
    {
     "name": "stdout",
     "output_type": "stream",
     "text": [
      "age: teenager\n",
      "carrying backpack: no\n",
      "carrying bag: no\n",
      "carrying handbag: no\n",
      "type of lower-body clothing: pants\n",
      "length of lower-body clothing: long lower body clothing\n",
      "sleeve length: short sleeve\n",
      "hair length: long hair\n",
      "wearing hat: no\n",
      "gender: female\n",
      "tensor([[False,  True, False, False, False, False, False,  True, False,  True,\n",
      "          True, False,  True, False, False, False, False, False, False, False,\n",
      "         False, False, False, False, False, False, False, False, False, False]])\n",
      "----\n",
      "age: teenager\n",
      "carrying backpack: no\n",
      "carrying bag: no\n",
      "carrying handbag: no\n",
      "type of lower-body clothing: pants\n",
      "length of lower-body clothing: short\n",
      "sleeve length: short sleeve\n",
      "hair length: short hair\n",
      "wearing hat: no\n",
      "gender: male\n",
      "tensor([[False,  True, False, False, False, False, False,  True,  True,  True,\n",
      "         False, False, False, False, False, False, False, False, False, False,\n",
      "         False, False, False, False, False, False, False, False, False, False]])\n",
      "----\n",
      "age: teenager\n",
      "carrying backpack: no\n",
      "carrying bag: no\n",
      "carrying handbag: no\n",
      "type of lower-body clothing: pants\n",
      "length of lower-body clothing: long lower body clothing\n",
      "sleeve length: short sleeve\n",
      "hair length: short hair\n",
      "wearing hat: no\n",
      "gender: female\n",
      "color of upper-body clothing: black\n",
      "color of lower-body clothing: blue\n",
      "tensor([[False,  True, False, False, False, False, False,  True, False,  True,\n",
      "         False, False,  True,  True, False, False, False, False, False, False,\n",
      "         False, False, False, False, False, False, False,  True, False, False]])\n",
      "----\n",
      "age: adult\n",
      "carrying backpack: no\n",
      "carrying bag: no\n",
      "carrying handbag: no\n",
      "type of lower-body clothing: pants\n",
      "length of lower-body clothing: long lower body clothing\n",
      "sleeve length: short sleeve\n",
      "hair length: short hair\n",
      "wearing hat: no\n",
      "gender: female\n",
      "color of lower-body clothing: gray\n",
      "tensor([[False, False,  True, False, False, False, False,  True, False,  True,\n",
      "         False, False,  True, False, False, False, False, False, False, False,\n",
      "         False, False, False, False, False, False,  True, False, False, False]])\n",
      "----\n",
      "age: teenager\n",
      "carrying backpack: no\n",
      "carrying bag: no\n",
      "carrying handbag: no\n",
      "type of lower-body clothing: pants\n",
      "length of lower-body clothing: long lower body clothing\n",
      "sleeve length: short sleeve\n",
      "hair length: long hair\n",
      "wearing hat: no\n",
      "gender: male\n",
      "color of upper-body clothing: black\n",
      "tensor([[False,  True, False, False, False, False, False,  True, False,  True,\n",
      "          True, False, False,  True, False, False, False, False, False, False,\n",
      "         False, False, False, False, False, False, False, False, False, False]])\n",
      "----\n",
      "age: teenager\n",
      "carrying backpack: no\n",
      "carrying bag: no\n",
      "carrying handbag: no\n",
      "type of lower-body clothing: pants\n",
      "length of lower-body clothing: long lower body clothing\n",
      "sleeve length: short sleeve\n",
      "hair length: long hair\n",
      "wearing hat: no\n",
      "gender: female\n",
      "tensor([[False,  True, False, False, False, False, False,  True, False,  True,\n",
      "          True, False,  True, False, False, False, False, False, False, False,\n",
      "         False, False, False, False, False, False, False, False, False, False]])\n",
      "----\n",
      "age: teenager\n",
      "carrying backpack: no\n",
      "carrying bag: no\n",
      "carrying handbag: no\n",
      "type of lower-body clothing: pants\n",
      "length of lower-body clothing: long lower body clothing\n",
      "sleeve length: short sleeve\n",
      "hair length: long hair\n",
      "wearing hat: no\n",
      "gender: female\n",
      "color of upper-body clothing: black\n",
      "tensor([[False,  True, False, False, False, False, False,  True, False,  True,\n",
      "          True, False,  True,  True, False, False, False, False, False, False,\n",
      "         False, False, False, False, False, False, False, False, False, False]])\n",
      "----\n",
      "age: teenager\n",
      "carrying backpack: no\n",
      "carrying bag: yes\n",
      "carrying handbag: no\n",
      "type of lower-body clothing: pants\n",
      "length of lower-body clothing: long lower body clothing\n",
      "sleeve length: short sleeve\n",
      "hair length: short hair\n",
      "wearing hat: no\n",
      "gender: female\n",
      "color of upper-body clothing: black\n",
      "color of lower-body clothing: black\n",
      "tensor([[False,  True, False, False, False,  True, False,  True, False,  True,\n",
      "         False, False,  True,  True, False, False, False, False, False, False,\n",
      "         False,  True, False, False, False, False, False, False, False, False]])\n",
      "----\n",
      "age: teenager\n",
      "carrying backpack: no\n",
      "carrying bag: yes\n",
      "carrying handbag: no\n",
      "type of lower-body clothing: pants\n",
      "length of lower-body clothing: short\n",
      "sleeve length: short sleeve\n",
      "hair length: long hair\n",
      "wearing hat: no\n",
      "gender: female\n",
      "color of lower-body clothing: black\n",
      "tensor([[False,  True, False, False, False,  True, False,  True,  True,  True,\n",
      "          True, False,  True, False, False, False, False, False, False, False,\n",
      "         False,  True, False, False, False, False, False, False, False, False]])\n",
      "----\n",
      "age: teenager\n",
      "carrying backpack: no\n",
      "carrying bag: yes\n",
      "carrying handbag: no\n",
      "type of lower-body clothing: pants\n",
      "length of lower-body clothing: long lower body clothing\n",
      "sleeve length: short sleeve\n",
      "hair length: long hair\n",
      "wearing hat: no\n",
      "gender: female\n",
      "color of upper-body clothing: black\n",
      "color of lower-body clothing: gray\n",
      "tensor([[False,  True, False, False, False,  True, False,  True, False,  True,\n",
      "          True, False,  True,  True, False, False, False, False, False, False,\n",
      "         False, False, False, False, False, False,  True, False, False, False]])\n",
      "----\n",
      "age: teenager\n",
      "carrying backpack: no\n",
      "carrying bag: no\n",
      "carrying handbag: no\n",
      "type of lower-body clothing: pants\n",
      "length of lower-body clothing: short\n",
      "sleeve length: short sleeve\n",
      "hair length: short hair\n",
      "wearing hat: no\n",
      "gender: male\n",
      "color of upper-body clothing: black\n",
      "tensor([[False,  True, False, False, False, False, False,  True,  True,  True,\n",
      "         False, False, False,  True, False, False, False, False, False, False,\n",
      "         False, False, False, False, False, False, False, False, False, False]])\n",
      "----\n",
      "age: teenager\n",
      "carrying backpack: no\n",
      "carrying bag: yes\n",
      "carrying handbag: no\n",
      "type of lower-body clothing: pants\n",
      "length of lower-body clothing: long lower body clothing\n",
      "sleeve length: short sleeve\n",
      "hair length: long hair\n",
      "wearing hat: no\n",
      "gender: female\n",
      "color of upper-body clothing: black\n",
      "tensor([[False,  True, False, False, False,  True, False,  True, False,  True,\n",
      "          True, False,  True,  True, False, False, False, False, False, False,\n",
      "         False, False, False, False, False, False, False, False, False, False]])\n",
      "----\n",
      "age: teenager\n",
      "carrying backpack: no\n",
      "carrying bag: no\n",
      "carrying handbag: no\n",
      "type of lower-body clothing: pants\n",
      "length of lower-body clothing: short\n",
      "sleeve length: short sleeve\n",
      "hair length: long hair\n",
      "wearing hat: no\n",
      "gender: female\n",
      "tensor([[False,  True, False, False, False, False, False,  True,  True,  True,\n",
      "          True, False,  True, False, False, False, False, False, False, False,\n",
      "         False, False, False, False, False, False, False, False, False, False]])\n",
      "----\n",
      "age: teenager\n",
      "carrying backpack: no\n",
      "carrying bag: no\n",
      "carrying handbag: no\n",
      "type of lower-body clothing: pants\n",
      "length of lower-body clothing: long lower body clothing\n",
      "sleeve length: short sleeve\n",
      "hair length: short hair\n",
      "wearing hat: no\n",
      "gender: male\n",
      "color of upper-body clothing: black\n",
      "tensor([[False,  True, False, False, False, False, False,  True, False,  True,\n",
      "         False, False, False,  True, False, False, False, False, False, False,\n",
      "         False, False, False, False, False, False, False, False, False, False]])\n",
      "----\n",
      "age: teenager\n",
      "carrying backpack: no\n",
      "carrying bag: no\n",
      "carrying handbag: no\n",
      "type of lower-body clothing: pants\n",
      "length of lower-body clothing: long lower body clothing\n",
      "sleeve length: long sleeve\n",
      "hair length: long hair\n",
      "wearing hat: no\n",
      "gender: male\n",
      "tensor([[False,  True, False, False, False, False, False,  True, False, False,\n",
      "          True, False, False, False, False, False, False, False, False, False,\n",
      "         False, False, False, False, False, False, False, False, False, False]])\n",
      "----\n",
      "age: teenager\n",
      "carrying backpack: no\n",
      "carrying bag: no\n",
      "carrying handbag: no\n",
      "type of lower-body clothing: pants\n",
      "length of lower-body clothing: long lower body clothing\n",
      "sleeve length: short sleeve\n",
      "hair length: long hair\n",
      "wearing hat: no\n",
      "gender: female\n",
      "color of upper-body clothing: black\n",
      "tensor([[False,  True, False, False, False, False, False,  True, False,  True,\n",
      "          True, False,  True,  True, False, False, False, False, False, False,\n",
      "         False, False, False, False, False, False, False, False, False, False]])\n",
      "----\n",
      "age: teenager\n",
      "carrying backpack: no\n",
      "carrying bag: no\n",
      "carrying handbag: no\n",
      "type of lower-body clothing: pants\n",
      "length of lower-body clothing: short\n",
      "sleeve length: short sleeve\n",
      "hair length: long hair\n",
      "wearing hat: no\n",
      "gender: male\n",
      "tensor([[False,  True, False, False, False, False, False,  True,  True,  True,\n",
      "          True, False, False, False, False, False, False, False, False, False,\n",
      "         False, False, False, False, False, False, False, False, False, False]])\n",
      "----\n"
     ]
    },
    {
     "name": "stdout",
     "output_type": "stream",
     "text": [
      "age: teenager\n",
      "carrying backpack: no\n",
      "carrying bag: no\n",
      "carrying handbag: no\n",
      "type of lower-body clothing: pants\n",
      "length of lower-body clothing: long lower body clothing\n",
      "sleeve length: short sleeve\n",
      "hair length: long hair\n",
      "wearing hat: no\n",
      "gender: male\n",
      "color of upper-body clothing: green\n",
      "tensor([[False,  True, False, False, False, False, False,  True, False,  True,\n",
      "          True, False, False, False, False, False, False, False, False, False,\n",
      "          True, False, False, False, False, False, False, False, False, False]])\n",
      "----\n",
      "age: teenager\n",
      "carrying backpack: no\n",
      "carrying bag: no\n",
      "carrying handbag: no\n",
      "type of lower-body clothing: pants\n",
      "length of lower-body clothing: long lower body clothing\n",
      "sleeve length: short sleeve\n",
      "hair length: short hair\n",
      "wearing hat: no\n",
      "gender: female\n",
      "tensor([[False,  True, False, False, False, False, False,  True, False,  True,\n",
      "         False, False,  True, False, False, False, False, False, False, False,\n",
      "         False, False, False, False, False, False, False, False, False, False]])\n",
      "----\n",
      "age: teenager\n",
      "carrying backpack: no\n",
      "carrying bag: yes\n",
      "carrying handbag: no\n",
      "type of lower-body clothing: dress\n",
      "length of lower-body clothing: long lower body clothing\n",
      "sleeve length: short sleeve\n",
      "hair length: long hair\n",
      "wearing hat: no\n",
      "gender: female\n",
      "color of lower-body clothing: gray\n",
      "tensor([[False,  True, False, False, False,  True, False, False, False,  True,\n",
      "          True, False,  True, False, False, False, False, False, False, False,\n",
      "         False, False, False, False, False, False,  True, False, False, False]])\n",
      "----\n",
      "age: teenager\n",
      "carrying backpack: no\n",
      "carrying bag: no\n",
      "carrying handbag: no\n",
      "type of lower-body clothing: pants\n",
      "length of lower-body clothing: long lower body clothing\n",
      "sleeve length: short sleeve\n",
      "hair length: long hair\n",
      "wearing hat: no\n",
      "gender: female\n",
      "tensor([[False,  True, False, False, False, False, False,  True, False,  True,\n",
      "          True, False,  True, False, False, False, False, False, False, False,\n",
      "         False, False, False, False, False, False, False, False, False, False]])\n",
      "----\n",
      "age: teenager\n",
      "carrying backpack: no\n",
      "carrying bag: no\n",
      "carrying handbag: no\n",
      "type of lower-body clothing: pants\n",
      "length of lower-body clothing: long lower body clothing\n",
      "sleeve length: short sleeve\n",
      "hair length: long hair\n",
      "wearing hat: no\n",
      "gender: female\n",
      "color of lower-body clothing: gray\n",
      "tensor([[False,  True, False, False, False, False, False,  True, False,  True,\n",
      "          True, False,  True, False, False, False, False, False, False, False,\n",
      "         False, False, False, False, False, False,  True, False, False, False]])\n",
      "----\n",
      "age: teenager\n",
      "carrying backpack: no\n",
      "carrying bag: no\n",
      "carrying handbag: no\n",
      "type of lower-body clothing: pants\n",
      "length of lower-body clothing: short\n",
      "sleeve length: short sleeve\n",
      "hair length: long hair\n",
      "wearing hat: no\n",
      "gender: female\n",
      "tensor([[False,  True, False, False, False, False, False,  True,  True,  True,\n",
      "          True, False,  True, False, False, False, False, False, False, False,\n",
      "         False, False, False, False, False, False, False, False, False, False]])\n",
      "----\n",
      "carrying backpack: no\n",
      "carrying bag: no\n",
      "carrying handbag: no\n",
      "type of lower-body clothing: pants\n",
      "length of lower-body clothing: short\n",
      "sleeve length: short sleeve\n",
      "hair length: short hair\n",
      "wearing hat: no\n",
      "gender: female\n",
      "color of upper-body clothing: red\n",
      "tensor([[False, False, False, False, False, False, False,  True,  True,  True,\n",
      "         False, False,  True, False, False,  True, False, False, False, False,\n",
      "         False, False, False, False, False, False, False, False, False, False]])\n",
      "----\n"
     ]
    }
   ],
   "source": [
    "model = leon_get_model()\n",
    "for key,val in yolo_mes.items():\n",
    "    crop_img = val['crop_img']\n",
    "    fig = get_fig(net,crop_img)\n",
    "    yolo_output['crop'][key]['attri'] = get_attribute(model,yolo_output['crop'][key]['crop_img'])\n",
    "    print(yolo_output['crop'][key]['attri'])\n",
    "    print('----')"
   ]
  },
  {
   "cell_type": "markdown",
   "id": "b7794f35",
   "metadata": {},
   "source": [
    "## 其他 - 基础检测功能\n",
    "- 分为三个功能\n",
    "    - 吸烟检测\n",
    "    - 摔倒检测\n",
    "        - 定义摔倒不起检测功能\n",
    "    - 口罩检测\n",
    "- 三个功能来自同一个检测模型\n",
    "    - 需要做一个任务分流函数（基于模型输出进行筛选性操作）"
   ]
  },
  {
   "cell_type": "markdown",
   "id": "3f0ed6c1",
   "metadata": {},
   "source": [
    "### 模型初始化"
   ]
  },
  {
   "cell_type": "code",
   "execution_count": null,
   "id": "c3a03186",
   "metadata": {},
   "outputs": [],
   "source": [
    "def get_yolo_relation():\n",
    "    pass"
   ]
  },
  {
   "cell_type": "markdown",
   "id": "588582e0",
   "metadata": {},
   "source": [
    "### 定义类别映射字典"
   ]
  },
  {
   "cell_type": "code",
   "execution_count": 44,
   "id": "9ee1fc35",
   "metadata": {},
   "outputs": [],
   "source": [
    "class_dict = {'smoke':['smoke'],'fall':['fall'],'mask':['face_mask','mask']}\n",
    "# for key,value in class_dict.items():\n",
    "#     print(key)\n",
    "# output: smoke <br> fall <br> mask"
   ]
  },
  {
   "cell_type": "markdown",
   "id": "9da1240e",
   "metadata": {},
   "source": [
    "### 定义模型检测-输出筛选函数\n",
    "- 只输出当前任务的检测结果"
   ]
  },
  {
   "cell_type": "code",
   "execution_count": 57,
   "id": "02b97931",
   "metadata": {},
   "outputs": [],
   "source": [
    "def choose_opt(mode,output,class_dict):\n",
    "    # 待删除数据的 键 存储器 - 限于Python字典的性质限制\n",
    "    mid_list = []\n",
    "    # 基于类别进行筛选\n",
    "    for key,unit_mes in output['crop'].items():\n",
    "        cls = unit_mes['cls']\n",
    "        # 定义目标类别的变量域\n",
    "        tar_list = class_dict[mode]\n",
    "        # 筛选操作\n",
    "        if cls not in tar_list:\n",
    "            mid_list.append(key)\n",
    "    for key in mid_list:\n",
    "        output['crop'].pop(key, None)\n",
    "    return output\n",
    "\n",
    "# test_dict = {'crop':{'smoke':{'cls':'smoke'},'fall':{'cls':'fall'},'mask':{'cls':'mask'}}}\n",
    "# choose_opt('smoke',test_dict,class_dict)\n",
    "# output: {'crop': {'smoke': {'cls': 'smoke'}}}"
   ]
  },
  {
   "cell_type": "markdown",
   "id": "98cb25a5",
   "metadata": {},
   "source": [
    "# 图像源 初始化"
   ]
  },
  {
   "cell_type": "code",
   "execution_count": 1,
   "id": "04cb17c9",
   "metadata": {},
   "outputs": [],
   "source": [
    "import cv2\n",
    " \n",
    "class VideoCamera(object):\n",
    "    def __init__(self):\n",
    "        # 定义视频数据的图像来源\n",
    "        self.video = cv2.VideoCapture(0)\n",
    "    \n",
    "    def __del__(self):\n",
    "        self.video.release()\n",
    "    \n",
    "    # 设置获取视频的图像数据\n",
    "    def get_frame(self):\n",
    "        # 每次运行都通过来源进行数据获取\n",
    "        success, image = self.video.read()\n",
    "        # 将图片进行编码，转化为指定的图片格式\n",
    "        ret, jpeg = cv2.imencode('.jpg', image)\n",
    "        # 通过字节形式进行流传输\n",
    "        return jpeg.tobytes()"
   ]
  },
  {
   "cell_type": "markdown",
   "id": "5396619f",
   "metadata": {},
   "source": [
    "# 函数功能汇总\n",
    "- 用于确定选择该项目所选择的AI处理算法"
   ]
  },
  {
   "cell_type": "code",
   "execution_count": 5,
   "id": "c74d17b9",
   "metadata": {},
   "outputs": [],
   "source": [
    "def get_opt():\n",
    "    pass"
   ]
  },
  {
   "cell_type": "markdown",
   "id": "883dbc56",
   "metadata": {},
   "source": [
    "# 图像传输"
   ]
  },
  {
   "cell_type": "code",
   "execution_count": 2,
   "id": "76801da2",
   "metadata": {},
   "outputs": [],
   "source": [
    "import os\n",
    "from flask import Flask, render_template, Response, make_response\n",
    "app = Flask(__name__)\n",
    " \n",
    "# 相机推流 - 创建对象 - 根据图生成二进制传输流\n",
    "def gen(camera):\n",
    "    while True:\n",
    "        frame = camera.get_frame()\n",
    "        # 生成二进制传输流 同时生成包含头部数据和图片数据的传输流\n",
    "        yield (b'--frame\\r\\n'\n",
    "               b'Content-Type: image/jpeg\\r\\n\\r\\n' + frame + b'\\r\\n\\r\\n')\n",
    "\n",
    "# 每次访问，即返回一张处理好的照片 - 注意此处的response是用来进行数据的 反馈操作\n",
    "@app.route('/video_feed')\n",
    "def video_feed():\n",
    "    return Response(gen(VideoCamera()),\n",
    "                    mimetype='multipart/x-mixed-replace; boundary=frame')\n",
    " \n",
    "#当前实时相机画面\n",
    "@app.route('/cur_camera')\n",
    "def cur_camera():\n",
    "    return render_template(r'Flask-StreamData-Trans.html')"
   ]
  },
  {
   "cell_type": "code",
   "execution_count": 3,
   "id": "cd9783e5",
   "metadata": {
    "scrolled": true
   },
   "outputs": [
    {
     "name": "stdout",
     "output_type": "stream",
     "text": [
      " * Serving Flask app '__main__'\n",
      " * Debug mode: off\n"
     ]
    },
    {
     "name": "stderr",
     "output_type": "stream",
     "text": [
      "WARNING: This is a development server. Do not use it in a production deployment. Use a production WSGI server instead.\n",
      " * Running on all addresses (0.0.0.0)\n",
      " * Running on http://127.0.0.1:5000\n",
      " * Running on http://192.168.7.8:5000\n",
      "Press CTRL+C to quit\n",
      "192.168.7.8 - - [08/Oct/2022 22:41:19] \"GET / HTTP/1.1\" 404 -\n",
      "192.168.7.8 - - [08/Oct/2022 22:41:19] \"GET /favicon.ico HTTP/1.1\" 404 -\n",
      "192.168.7.8 - - [08/Oct/2022 22:41:38] \"GET //video_feed HTTP/1.1\" 200 -\n",
      "192.168.7.8 - - [08/Oct/2022 22:41:41] \"GET /video_feed HTTP/1.1\" 200 -\n"
     ]
    }
   ],
   "source": [
    "if __name__ == '__main__':\n",
    "    app.run(host='0.0.0.0', debug=False)"
   ]
  }
 ],
 "metadata": {
  "kernelspec": {
   "display_name": "Leon_env",
   "language": "python",
   "name": "leon_env"
  },
  "language_info": {
   "codemirror_mode": {
    "name": "ipython",
    "version": 3
   },
   "file_extension": ".py",
   "mimetype": "text/x-python",
   "name": "python",
   "nbconvert_exporter": "python",
   "pygments_lexer": "ipython3",
   "version": "3.7.5"
  },
  "toc": {
   "base_numbering": 1,
   "nav_menu": {},
   "number_sections": true,
   "sideBar": true,
   "skip_h1_title": false,
   "title_cell": "Table of Contents",
   "title_sidebar": "Contents",
   "toc_cell": false,
   "toc_position": {
    "height": "calc(100% - 180px)",
    "left": "10px",
    "top": "150px",
    "width": "246.667px"
   },
   "toc_section_display": true,
   "toc_window_display": true
  }
 },
 "nbformat": 4,
 "nbformat_minor": 5
}
