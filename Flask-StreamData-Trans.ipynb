{
 "cells": [
  {
   "cell_type": "markdown",
   "id": "c028babd",
   "metadata": {},
   "source": [
    "# 初始化 摄像头 调用函数"
   ]
  },
  {
   "cell_type": "code",
   "execution_count": 1,
   "id": "d041b349",
   "metadata": {},
   "outputs": [],
   "source": [
    "import cv2\n",
    " \n",
    "class VideoCamera(object):\n",
    "    def __init__(self):\n",
    "        # 定义视频数据的图像来源\n",
    "        self.video = cv2.VideoCapture(0)\n",
    "    \n",
    "    def __del__(self):\n",
    "        self.video.release()\n",
    "    \n",
    "    # 设置获取视频的图像数据\n",
    "    def get_frame(self):\n",
    "        # 每次运行都通过来源进行数据获取\n",
    "        success, image = self.video.read()\n",
    "        # 将图片进行编码，转化为指定的图片格式\n",
    "        ret, jpeg = cv2.imencode('.jpg', image)\n",
    "        # 通过字节形式进行流传输\n",
    "        return jpeg.tobytes()"
   ]
  },
  {
   "cell_type": "code",
   "execution_count": null,
   "id": "556e7885",
   "metadata": {},
   "outputs": [
    {
     "name": "stdout",
     "output_type": "stream",
     "text": [
      " * Serving Flask app \"__main__\" (lazy loading)\n",
      " * Environment: production\n",
      "\u001b[31m   WARNING: This is a development server. Do not use it in a production deployment.\u001b[0m\n",
      "\u001b[2m   Use a production WSGI server instead.\u001b[0m\n",
      " * Debug mode: off\n"
     ]
    },
    {
     "name": "stderr",
     "output_type": "stream",
     "text": [
      " * Running on all addresses.\n",
      "   WARNING: This is a development server. Do not use it in a production deployment.\n",
      " * Running on http://192.168.241.8:5000/ (Press CTRL+C to quit)\n",
      "192.168.241.151 - - [04/Oct/2022 15:47:51] \"GET / HTTP/1.1\" 404 -\n",
      "192.168.241.151 - - [04/Oct/2022 15:48:09] \"GET /cur_camera HTTP/1.1\" 200 -\n",
      "192.168.241.151 - - [04/Oct/2022 15:48:19] \"GET /video_feed HTTP/1.1\" 200 -\n"
     ]
    }
   ],
   "source": [
    "import os\n",
    "from flask import Flask, render_template, Response, make_response\n",
    "app = Flask(__name__)\n",
    " \n",
    "# 相机推流 - 创建对象 - 根据图生成二进制传输流\n",
    "def gen(camera):\n",
    "    while True:\n",
    "        frame = camera.get_frame()\n",
    "        # 生成二进制传输流 同时生成包含头部数据和图片数据的传输流\n",
    "        yield (b'--frame\\r\\n'\n",
    "               b'Content-Type: image/jpeg\\r\\n\\r\\n' + frame + b'\\r\\n\\r\\n')\n",
    "\n",
    "# 每次访问，即返回一张处理好的照片 - 注意此处的response是用来进行数据的 反馈操作\n",
    "@app.route('/video_feed')\n",
    "def video_feed():\n",
    "    return Response(gen(VideoCamera()),\n",
    "                    mimetype='multipart/x-mixed-replace; boundary=frame')\n",
    " \n",
    "#当前实时相机画面\n",
    "@app.route('/cur_camera')\n",
    "def cur_camera():\n",
    "    return render_template(r'Flask-StreamData-Trans.html')\n",
    " \n",
    "if __name__ == '__main__':\n",
    "    app.run(host='0.0.0.0', debug=False)"
   ]
  },
  {
   "cell_type": "code",
   "execution_count": null,
   "id": "2c544981",
   "metadata": {},
   "outputs": [],
   "source": []
  }
 ],
 "metadata": {
  "kernelspec": {
   "display_name": "Python 3 (ipykernel)",
   "language": "python",
   "name": "python3"
  },
  "language_info": {
   "codemirror_mode": {
    "name": "ipython",
    "version": 3
   },
   "file_extension": ".py",
   "mimetype": "text/x-python",
   "name": "python",
   "nbconvert_exporter": "python",
   "pygments_lexer": "ipython3",
   "version": "3.9.12"
  }
 },
 "nbformat": 4,
 "nbformat_minor": 5
}
