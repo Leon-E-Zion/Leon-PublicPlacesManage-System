{
 "cells": [
  {
   "cell_type": "code",
   "execution_count": 3,
   "id": "40bea21b",
   "metadata": {},
   "outputs": [],
   "source": [
    "import cv2\n",
    "import os\n",
    "from flask import Flask, render_template, Response, make_response"
   ]
  },
  {
   "cell_type": "markdown",
   "id": "505eae8c",
   "metadata": {},
   "source": [
    "# opt-FC"
   ]
  },
  {
   "cell_type": "code",
   "execution_count": null,
   "id": "50e20257",
   "metadata": {},
   "outputs": [],
   "source": [
    "# 选择性调用相关模块\n",
    "def fc_0(data):\n",
    "    pass\n",
    "# 选择性调用相关函数\n",
    "def fc_1(data):\n",
    "    pass\n",
    "# 数据传输函数\n",
    "def fc_2(data):\n",
    "    pass"
   ]
  },
  {
   "cell_type": "markdown",
   "id": "789b7a01",
   "metadata": {},
   "source": [
    "# Rlation FC"
   ]
  },
  {
   "cell_type": "markdown",
   "id": "7e4adfd4",
   "metadata": {},
   "source": [
    "## 项目整体思路\n",
    "- 方便维护\n",
    "    - 在前后端交互过程中的参数交互写入到指定的yaml文件中\n",
    "    - AI对象初始化时注意到通过读取yaml文件获取参数数值\n",
    "------\n",
    "- 整体流程\n",
    "    - 前后端部分通过对Flask的接口进行访问，调整相关的任务参数，任务参数用于指定AI算法的执行内容\n",
    "    - 任务参数存入指定的yaml文件中\n",
    "    - 前后端部分通过指定Flask接口进行访问，使AI部分开始推理，并将生成的图片数据反馈回前后端进行展示"
   ]
  },
  {
   "cell_type": "markdown",
   "id": "1ea7e71f",
   "metadata": {},
   "source": [
    "## Get-Camera\n",
    "- 此处为摄像头思路流程整理\n",
    "------\n",
    "- 整体思路\n",
    "    - 前后端发出请求希望检测2号摄像头 - 后端通过进入指定url实现\n",
    "    - 人工智能部分对2号摄像头进行调用 - 获取相关数据\n",
    "    - 通过AI算法对数据进行处理\n",
    "    - 将数据结果反馈在指定的网站\n",
    "-------\n",
    "- 实际实现\n",
    "    - 初始化 图像来源 - 基于设置对象VideoCamera实现\n",
    "    - 获取图像 - AI算法处理 - 设置相机推流\n",
    "    - 根据相机推流生成图像输出的url\n",
    "    - 后端申请访问 http://local:xxxx/video_feed/relationparams...\n",
    "        - 通过参数设置AI算法的选择\n",
    "        - 通过修改video_feed实现数据的分析与指定端口的输出\n",
    "        - 需要附加一个AI处理函数对数据流进行包装"
   ]
  },
  {
   "cell_type": "code",
   "execution_count": null,
   "id": "53593ead",
   "metadata": {},
   "outputs": [],
   "source": [
    "class VideoCamera(object):\n",
    "    def __init__(self):\n",
    "        # 定义视频数据的图像来源\n",
    "        self.video = cv2.VideoCapture(0)\n",
    "    \n",
    "    def __del__(self):\n",
    "        self.video.release()\n",
    "    \n",
    "    # 设置获取视频的图像数据\n",
    "    def get_frame(self):\n",
    "        # 每次运行都通过来源进行数据获取\n",
    "        success, image = self.video.read()\n",
    "        # 将图片进行编码，转化为指定的图片格式\n",
    "        ret, jpeg = cv2.imencode('.jpg', image)\n",
    "        # 通过字节形式进行流传输\n",
    "        return jpeg.tobytes()\n",
    "        \n",
    "\n",
    "# 相机推流 - 创建对象 - 根据图生成二进制传输流\n",
    "def gen(camera):\n",
    "    while True:\n",
    "        frame = camera.get_frame()\n",
    "        # 生成二进制传输流 同时生成包含头部数据和图片数据的传输流\n",
    "        yield (b'--frame\\r\\n'\n",
    "               b'Content-Type: image/jpeg\\r\\n\\r\\n' + frame + b'\\r\\n\\r\\n')\n",
    "\n",
    "# 每次访问，即返回一张处理好的照片 - 注意此处的response是用来进行数据的 反馈操作\n",
    "@app.route('/video_feed')\n",
    "def video_feed():\n",
    "    return Response(gen(VideoCamera()),\n",
    "                    mimetype='multipart/x-mixed-replace; boundary=frame')\n",
    " \n",
    "#当前实时相机画面\n",
    "@app.route('/cur_camera')\n",
    "def cur_camera():\n",
    "    return render_template(r'Flask-StreamData-Trans.html')\n",
    " \n",
    "if __name__ == '__main__':\n",
    "    app.run(host='0.0.0.0', debug=False)"
   ]
  },
  {
   "cell_type": "markdown",
   "id": "75dc56d9",
   "metadata": {},
   "source": [
    "# Main Obj"
   ]
  },
  {
   "cell_type": "code",
   "execution_count": null,
   "id": "76ce3055",
   "metadata": {},
   "outputs": [],
   "source": [
    "from flask import Flask\n",
    "app = Flask(__name__)\n",
    "\n",
    "# \n",
    "\n",
    "def url_get(data_dict):\n",
    "    opt_0 = data_dict['opt_0']\n",
    "    opt_1 = data_dict['opt_1']\n",
    "    opt_2 = data_dict['opt_2']\n",
    "    \n",
    "\n",
    "@app.route('/')\n",
    "def index():\n",
    "    return '<h1>Hello, world!</h1>'"
   ]
  }
 ],
 "metadata": {
  "kernelspec": {
   "display_name": "Python 3 (ipykernel)",
   "language": "python",
   "name": "python3"
  },
  "language_info": {
   "codemirror_mode": {
    "name": "ipython",
    "version": 3
   },
   "file_extension": ".py",
   "mimetype": "text/x-python",
   "name": "python",
   "nbconvert_exporter": "python",
   "pygments_lexer": "ipython3",
   "version": "3.9.12"
  }
 },
 "nbformat": 4,
 "nbformat_minor": 5
}
